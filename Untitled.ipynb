{
 "cells": [
  {
   "cell_type": "code",
   "execution_count": 1,
   "id": "35b3ff52-41a6-4b79-971d-84b107849129",
   "metadata": {},
   "outputs": [
    {
     "name": "stdout",
     "output_type": "stream",
     "text": [
      "Output of the network: 0.408347512792638\n"
     ]
    }
   ],
   "source": [
    "import random\n",
    "\n",
    "def exp(x, terms=10):\n",
    "    result = 1\n",
    "    factorial = 1\n",
    "    power = 1\n",
    "    for i in range(1, terms):\n",
    "        factorial *= i\n",
    "        power *= x\n",
    "        result += power / factorial\n",
    "    return result\n",
    "\n",
    "def tanh(x):\n",
    "    e_pos = exp(x)\n",
    "    e_neg = exp(-x)\n",
    "    return (e_pos - e_neg) / (e_pos + e_neg)  \n",
    "\n",
    "def dot_product(w, x):\n",
    "    return sum(w[i] * x[i] for i in range(len(w)))\n",
    "\n",
    "def forward_pass(x, w1, w2, b1, b2):\n",
    "    \n",
    "    z1 = [dot_product(w1[i], x) + b1 for i in range(len(w1))]\n",
    "    a1 = [tanh(z) for z in z1]\n",
    "    \n",
    "    \n",
    "    z2 = dot_product(w2, a1) + b2\n",
    "    a2 = tanh(z2)\n",
    "    \n",
    "    return a2\n",
    "\n",
    "\n",
    "random.seed(42)  \n",
    "input_size = 3 \n",
    "hidden_size = 4  \n",
    "output_size = 1  \n",
    "\n",
    "w1 = [[random.uniform(-0.5, 0.5) for _ in range(input_size)] for _ in range(hidden_size)]\n",
    "w2 = [random.uniform(-0.5, 0.5) for _ in range(hidden_size)]\n",
    "\n",
    "b1 = 0.5\n",
    "b2 = 0.7\n",
    "\n",
    "test_input = [0.1, -0.2, 0.3]\n",
    "\n",
    "output = forward_pass(test_input, w1, w2, b1, b2)\n",
    "print(\"Output of the network:\", output)\n"
   ]
  },
  {
   "cell_type": "code",
   "execution_count": null,
   "id": "55b84bbc-bace-41d3-a9c8-8005dd06cf13",
   "metadata": {},
   "outputs": [],
   "source": []
  }
 ],
 "metadata": {
  "kernelspec": {
   "display_name": "Python 3 (ipykernel)",
   "language": "python",
   "name": "python3"
  },
  "language_info": {
   "codemirror_mode": {
    "name": "ipython",
    "version": 3
   },
   "file_extension": ".py",
   "mimetype": "text/x-python",
   "name": "python",
   "nbconvert_exporter": "python",
   "pygments_lexer": "ipython3",
   "version": "3.11.3"
  }
 },
 "nbformat": 4,
 "nbformat_minor": 5
}
